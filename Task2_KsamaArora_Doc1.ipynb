{
 "cells": [
  {
   "cell_type": "code",
   "execution_count": 26,
   "id": "46fda33d-b1c4-472f-9982-f7e613034bc9",
   "metadata": {},
   "outputs": [],
   "source": [
    "import ollama\n",
    "import fitz \n",
    "import pdfplumber\n",
    "import json\n",
    "from IPython.display import display\n",
    "from PIL import Image\n"
   ]
  },
  {
   "cell_type": "code",
   "execution_count": 27,
   "id": "3eb53468-42c2-4ffc-a4f7-e5cfbc095e10",
   "metadata": {},
   "outputs": [],
   "source": [
    "\n",
    "def convert_pdf_to_images(pdf_path):\n",
    "    images = convert_from_path(pdf_path)\n",
    "    return images\n"
   ]
  },
  {
   "cell_type": "code",
   "execution_count": 28,
   "id": "0d4a5694-94c7-40e8-8dce-6c58e1a5f541",
   "metadata": {},
   "outputs": [],
   "source": [
    "\n",
    "def extract_text_from_pdf(pdf_path):\n",
    "    doc = fitz.open(pdf_path)\n",
    "    text = \"\"\n",
    "    for page in doc:\n",
    "        text += page.get_text(\"text\") + \"\\n\"\n",
    "    return text.strip()\n"
   ]
  },
  {
   "cell_type": "code",
   "execution_count": 29,
   "id": "7fa0bdf5-2c6e-4c43-8a5b-3e60fc7d3766",
   "metadata": {},
   "outputs": [],
   "source": [
    "\n",
    "def extract_tables_from_pdf(pdf_path):\n",
    "    tables = []\n",
    "    with pdfplumber.open(pdf_path) as pdf:\n",
    "        for page in pdf.pages:\n",
    "            extracted_tables = page.extract_tables()\n",
    "            for table in extracted_tables:\n",
    "                headers = table[0] \n",
    "                for row in table[1:]:\n",
    "                    row_dict = {headers[i]: row[i] for i in range(len(headers))}\n",
    "                    tables.append(row_dict)\n",
    "    return tables\n"
   ]
  },
  {
   "cell_type": "code",
   "execution_count": 30,
   "id": "c29d28ea-2b80-4a31-9cb9-19fcde588925",
   "metadata": {},
   "outputs": [],
   "source": [
    "\n",
    "def structure_data_with_ollama(text, tables):\n",
    "    prompt = f\"\"\"\n",
    "    Extract structured data from this purchase order.\n",
    "    - Headers: Extract all relevant key-value pairs.\n",
    "    - list_items: Extract table data as structured lists.\n",
    "    - Do not summarize or omit any data.\n",
    "\n",
    "    Text:\n",
    "    {text}\n",
    "\n",
    "    Tables:\n",
    "    {tables}\n",
    "\n",
    "    Format response as:\n",
    "    {{\n",
    "        \"headers\": {{\"key1\": \"value1\", \"key2\": \"value2\"}},\n",
    "        \"list_items\": [{{\"column1\": \"value\", \"column2\": \"value\"}}]\n",
    "    }}\n",
    "    \"\"\"\n",
    "\n",
    "    response = ollama.chat(model=\"mistral\", messages=[{\"role\": \"user\", \"content\": prompt}])\n",
    "    # response = ollama.chat(model=\"llama3\", messages=[{\"role\": \"user\", \"content\": prompt}])\n",
    "\n",
    "    return response['message']['content']\n"
   ]
  },
  {
   "cell_type": "code",
   "execution_count": 31,
   "id": "70e08eb7-db19-4fe4-b909-f289050b47ba",
   "metadata": {},
   "outputs": [
    {
     "name": "stdout",
     "output_type": "stream",
     "text": [
      "Processing Document Extraction 1.pdf...\n"
     ]
    }
   ],
   "source": [
    "\n",
    "pdf_path = \"Document Extraction 1.pdf\" \n",
    "print(f\"Processing {pdf_path}...\")\n"
   ]
  },
  {
   "cell_type": "code",
   "execution_count": 32,
   "id": "a0efc9a5-b0f4-4b17-a83b-001b00987572",
   "metadata": {},
   "outputs": [],
   "source": [
    "\n",
    "extracted_text = extract_text_from_pdf(pdf_path)\n",
    "extracted_tables = extract_tables_from_pdf(pdf_path)\n"
   ]
  },
  {
   "cell_type": "code",
   "execution_count": 33,
   "id": "5e02b7a3-a017-48bb-89fe-d9a8eade4cee",
   "metadata": {},
   "outputs": [],
   "source": [
    "\n",
    "structured_json = structure_data_with_ollama(extracted_text, extracted_tables)\n"
   ]
  },
  {
   "cell_type": "code",
   "execution_count": 34,
   "id": "caa3495f-eefd-466d-82dd-5c3abfabb42a",
   "metadata": {},
   "outputs": [
    {
     "name": "stdout",
     "output_type": "stream",
     "text": [
      "Raw Ollama Response:\n",
      " {\n",
      "       \"headers\": {\n",
      "          \"PURCHASE ORDER #\": \"123456/22\",\n",
      "          \"DATE\": \"22ND SEPTEMBER, 2022\",\n",
      "          \"CLIENT INFORMATION - Name\": \"FASHION QUEEN\",\n",
      "          \"CLIENT INFORMATION - Address\": \"108 Waldorf Street\\nCoventry, 25448 IL\",\n",
      "          \"CLIENT INFORMATION - Email\": \"info@fashionqueen.com\",\n",
      "          \"CLIENT INFORMATION - Phone\": \"(000) 1234 56789\",\n",
      "          \"ORDER INFORMATION - Company\": \"FASHION ITEMS INC Attn. Sam Martin (Chief of Finance)\",\n",
      "          \"ORDER INFORMATION - Address\": \"211 Arrow Bay, Westminster, 21656 Los Angeles\",\n",
      "          \"ORDER INFORMATION - Email\": \"info@fashionitems.com\",\n",
      "          \"ORDER INFORMATION - Phone\": \"(555) 1234 56789\",\n",
      "          \"SHIPPING INFO - Method\": \"Courier\",\n",
      "          \"SHIPPING INFO - Company\": \"FedEx\",\n",
      "          \"SHIPPING INFO - Track #\": \"1222052520000680\",\n",
      "          \"SHIPPING INFO - Arrival Date\": \"29/09/2022\",\n",
      "          \"PAYMENT INFO - Payment Type\": \"Credit Card\",\n",
      "          \"PAYMENT INFO - TOTAL\": \"3,604.35$\",\n",
      "          \"NOTES\": \"The amount of the Purchase Order is the agreed fixed price and shall not be exceeded without advanced written consent. Lorem ipsum dolor sit amet, consectetuer adipiscing elit. Maecenas porttitor congue massa.\"\n",
      "       },\n",
      "       \"list_items\": [\n",
      "          {\n",
      "             \"PRODUCT NAME\": \"Poshmark black dress\",\n",
      "             \"ITEM #\": \"99880052\",\n",
      "             \"SIZE\": \"M\",\n",
      "             \"COLOUR\": \"BLACK\",\n",
      "             \"TOTAL\": \"1,080.00$\"\n",
      "          },\n",
      "          {\n",
      "             \"PRODUCT NAME\": \"Waterproof French overcoat\",\n",
      "             \"ITEM #\": \"99881052\",\n",
      "             \"SIZE\": \"M\",\n",
      "             \"COLOUR\": \"BLACK\",\n",
      "             \"TOTAL\": \"995.00$\"\n",
      "          },\n",
      "          {\n",
      "             \"PRODUCT NAME\": \"Signature perfume\",\n",
      "             \"ITEM #\": \"99885688\",\n",
      "             \"SIZE\": \"*\",\n",
      "             \"COLOUR\": \"*\",\n",
      "             \"TOTAL\": \"205.00$\"\n",
      "          },\n",
      "          {\n",
      "             \"PRODUCT NAME\": \"Classic blazer 'mindsweeper'\",\n",
      "             \"ITEM #\": \"99884899\",\n",
      "             \"SIZE\": \"L\",\n",
      "             \"COLOUR\": \"RED/BLACK\",\n",
      "             \"TOTAL\": \"1,080.00$\"\n",
      "          }\n",
      "       ]\n",
      "    }\n"
     ]
    }
   ],
   "source": [
    "print(\"Raw Ollama Response:\")\n",
    "print(structured_json)  # Debugging: Check if response is valid JSON"
   ]
  },
  {
   "cell_type": "code",
   "execution_count": 35,
   "id": "32edcc76-3600-4fb5-9e4f-f5dbf0c0712c",
   "metadata": {},
   "outputs": [],
   "source": [
    "\n",
    "with open(\"purchase_order_data.json\", \"w\") as f:\n",
    "    json.dump(structured_json, f, indent=4)\n"
   ]
  },
  {
   "cell_type": "code",
   "execution_count": 36,
   "id": "5437345b-ae7f-457a-9fa3-dba9ce5cc57d",
   "metadata": {},
   "outputs": [
    {
     "name": "stdout",
     "output_type": "stream",
     "text": [
      "Purchase Order Data Extracted:\n",
      " {\n",
      "       \"headers\": {\n",
      "          \"PURCHASE ORDER #\": \"123456/22\",\n",
      "          \"DATE\": \"22ND SEPTEMBER, 2022\",\n",
      "          \"CLIENT INFORMATION - Name\": \"FASHION QUEEN\",\n",
      "          \"CLIENT INFORMATION - Address\": \"108 Waldorf Street\\nCoventry, 25448 IL\",\n",
      "          \"CLIENT INFORMATION - Email\": \"info@fashionqueen.com\",\n",
      "          \"CLIENT INFORMATION - Phone\": \"(000) 1234 56789\",\n",
      "          \"ORDER INFORMATION - Company\": \"FASHION ITEMS INC Attn. Sam Martin (Chief of Finance)\",\n",
      "          \"ORDER INFORMATION - Address\": \"211 Arrow Bay, Westminster, 21656 Los Angeles\",\n",
      "          \"ORDER INFORMATION - Email\": \"info@fashionitems.com\",\n",
      "          \"ORDER INFORMATION - Phone\": \"(555) 1234 56789\",\n",
      "          \"SHIPPING INFO - Method\": \"Courier\",\n",
      "          \"SHIPPING INFO - Company\": \"FedEx\",\n",
      "          \"SHIPPING INFO - Track #\": \"1222052520000680\",\n",
      "          \"SHIPPING INFO - Arrival Date\": \"29/09/2022\",\n",
      "          \"PAYMENT INFO - Payment Type\": \"Credit Card\",\n",
      "          \"PAYMENT INFO - TOTAL\": \"3,604.35$\",\n",
      "          \"NOTES\": \"The amount of the Purchase Order is the agreed fixed price and shall not be exceeded without advanced written consent. Lorem ipsum dolor sit amet, consectetuer adipiscing elit. Maecenas porttitor congue massa.\"\n",
      "       },\n",
      "       \"list_items\": [\n",
      "          {\n",
      "             \"PRODUCT NAME\": \"Poshmark black dress\",\n",
      "             \"ITEM #\": \"99880052\",\n",
      "             \"SIZE\": \"M\",\n",
      "             \"COLOUR\": \"BLACK\",\n",
      "             \"TOTAL\": \"1,080.00$\"\n",
      "          },\n",
      "          {\n",
      "             \"PRODUCT NAME\": \"Waterproof French overcoat\",\n",
      "             \"ITEM #\": \"99881052\",\n",
      "             \"SIZE\": \"M\",\n",
      "             \"COLOUR\": \"BLACK\",\n",
      "             \"TOTAL\": \"995.00$\"\n",
      "          },\n",
      "          {\n",
      "             \"PRODUCT NAME\": \"Signature perfume\",\n",
      "             \"ITEM #\": \"99885688\",\n",
      "             \"SIZE\": \"*\",\n",
      "             \"COLOUR\": \"*\",\n",
      "             \"TOTAL\": \"205.00$\"\n",
      "          },\n",
      "          {\n",
      "             \"PRODUCT NAME\": \"Classic blazer 'mindsweeper'\",\n",
      "             \"ITEM #\": \"99884899\",\n",
      "             \"SIZE\": \"L\",\n",
      "             \"COLOUR\": \"RED/BLACK\",\n",
      "             \"TOTAL\": \"1,080.00$\"\n",
      "          }\n",
      "       ]\n",
      "    }\n"
     ]
    }
   ],
   "source": [
    "\n",
    "print(\"Purchase Order Data Extracted:\")\n",
    "print(structured_json)\n"
   ]
  },
  {
   "cell_type": "code",
   "execution_count": null,
   "id": "e2f68e87-caee-4751-94b6-2819153eb939",
   "metadata": {},
   "outputs": [],
   "source": []
  },
  {
   "cell_type": "code",
   "execution_count": null,
   "id": "c3191222-a487-4fb7-acc1-643acc687c70",
   "metadata": {},
   "outputs": [],
   "source": []
  },
  {
   "cell_type": "code",
   "execution_count": null,
   "id": "64c56492-7c1f-4b70-a6ae-c6514d8a2d3d",
   "metadata": {},
   "outputs": [],
   "source": []
  }
 ],
 "metadata": {
  "kernelspec": {
   "display_name": "Python 3 (ipykernel)",
   "language": "python",
   "name": "python3"
  },
  "language_info": {
   "codemirror_mode": {
    "name": "ipython",
    "version": 3
   },
   "file_extension": ".py",
   "mimetype": "text/x-python",
   "name": "python",
   "nbconvert_exporter": "python",
   "pygments_lexer": "ipython3",
   "version": "3.9.21"
  }
 },
 "nbformat": 4,
 "nbformat_minor": 5
}
