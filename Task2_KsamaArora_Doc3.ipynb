{
 "cells": [
  {
   "cell_type": "code",
   "execution_count": 1,
   "id": "46fda33d-b1c4-472f-9982-f7e613034bc9",
   "metadata": {},
   "outputs": [],
   "source": [
    "import ollama\n",
    "import fitz \n",
    "import pdfplumber\n",
    "import json\n",
    "from IPython.display import display\n",
    "from PIL import Image\n"
   ]
  },
  {
   "cell_type": "code",
   "execution_count": 2,
   "id": "3eb53468-42c2-4ffc-a4f7-e5cfbc095e10",
   "metadata": {},
   "outputs": [],
   "source": [
    "\n",
    "def convert_pdf_to_images(pdf_path):\n",
    "    images = convert_from_path(pdf_path)\n",
    "    return images\n"
   ]
  },
  {
   "cell_type": "code",
   "execution_count": 3,
   "id": "0d4a5694-94c7-40e8-8dce-6c58e1a5f541",
   "metadata": {},
   "outputs": [],
   "source": [
    "\n",
    "def extract_text_from_pdf(pdf_path):\n",
    "    doc = fitz.open(pdf_path)\n",
    "    text = \"\"\n",
    "    for page in doc:\n",
    "        text += page.get_text(\"text\") + \"\\n\"\n",
    "    return text.strip()\n"
   ]
  },
  {
   "cell_type": "code",
   "execution_count": 4,
   "id": "7fa0bdf5-2c6e-4c43-8a5b-3e60fc7d3766",
   "metadata": {},
   "outputs": [],
   "source": [
    "\n",
    "def extract_tables_from_pdf(pdf_path):\n",
    "    tables = []\n",
    "    with pdfplumber.open(pdf_path) as pdf:\n",
    "        for page in pdf.pages:\n",
    "            extracted_tables = page.extract_tables()\n",
    "            for table in extracted_tables:\n",
    "                headers = table[0] \n",
    "                for row in table[1:]:\n",
    "                    row_dict = {headers[i]: row[i] for i in range(len(headers))}\n",
    "                    tables.append(row_dict)\n",
    "    return tables\n"
   ]
  },
  {
   "cell_type": "code",
   "execution_count": 5,
   "id": "c29d28ea-2b80-4a31-9cb9-19fcde588925",
   "metadata": {},
   "outputs": [],
   "source": [
    "\n",
    "def structure_data_with_ollama(text, tables):\n",
    "    prompt = f\"\"\"\n",
    "    Extract structured data from this purchase order.\n",
    "    - Headers: Extract all relevant key-value pairs.\n",
    "    - list_items: Extract table data as structured lists.\n",
    "    - Do not summarize or omit any data.\n",
    "    - Add all list_items properly.\n",
    "\n",
    "    Text:\n",
    "    {text}\n",
    "\n",
    "    Tables:\n",
    "    {tables}\n",
    "\n",
    "    Format response as:\n",
    "    {{\n",
    "        \"headers\": {{\"key1\": \"value1\", \"key2\": \"value2\"}},\n",
    "        \"list_items\": [{{\"column1\": \"value\", \"column2\": \"value\"}}]\n",
    "    }}\n",
    "    \"\"\"\n",
    "\n",
    "    response = ollama.chat(model=\"mistral\", messages=[{\"role\": \"user\", \"content\": prompt}])\n",
    "    # response = ollama.chat(model=\"llama3\", messages=[{\"role\": \"user\", \"content\": prompt}])\n",
    "\n",
    "    return response['message']['content']\n"
   ]
  },
  {
   "cell_type": "code",
   "execution_count": 6,
   "id": "70e08eb7-db19-4fe4-b909-f289050b47ba",
   "metadata": {},
   "outputs": [
    {
     "name": "stdout",
     "output_type": "stream",
     "text": [
      "Processing Document Extraction 3.pdf...\n"
     ]
    }
   ],
   "source": [
    "\n",
    "pdf_path = \"Document Extraction 3.pdf\" \n",
    "print(f\"Processing {pdf_path}...\")\n"
   ]
  },
  {
   "cell_type": "code",
   "execution_count": 7,
   "id": "a0efc9a5-b0f4-4b17-a83b-001b00987572",
   "metadata": {},
   "outputs": [],
   "source": [
    "\n",
    "extracted_text = extract_text_from_pdf(pdf_path)\n",
    "extracted_tables = extract_tables_from_pdf(pdf_path)\n"
   ]
  },
  {
   "cell_type": "code",
   "execution_count": 8,
   "id": "5e02b7a3-a017-48bb-89fe-d9a8eade4cee",
   "metadata": {},
   "outputs": [],
   "source": [
    "\n",
    "structured_json = structure_data_with_ollama(extracted_text, extracted_tables)\n"
   ]
  },
  {
   "cell_type": "code",
   "execution_count": 9,
   "id": "caa3495f-eefd-466d-82dd-5c3abfabb42a",
   "metadata": {},
   "outputs": [
    {
     "name": "stdout",
     "output_type": "stream",
     "text": [
      "Raw Ollama Response:\n",
      " Here is the structured data extracted from the given text:\n",
      "\n",
      "    ```json\n",
      "    {\n",
      "        \"headers\": {\n",
      "            \"PURCHASE ORDER TO\": \"Construction Masters\",\n",
      "            \"SERVICE DESCRIPTION\": \"\",\n",
      "            \"ITEM DESCRIPTION\": \"\",\n",
      "            \"COMMENTS\": \"\",\n",
      "            \"DATE\": \"01/01/2022\",\n",
      "            \"APPROVED BY\": \"\",\n",
      "            \"TOTAL\": \"\",\n",
      "            \"TOTAL MATERIALS\": \"\",\n",
      "            \"ACCEPTED BY\": \"\",\n",
      "            \"TOTAL SERVICES\": \"\",\n",
      "            \"SHIP TO\": \"270 Construction Road Drive, Dayton, 25143 OH, PH: 555-1524-58554\",\n",
      "            \"PURCHASE ORDER\": \"Total Job Cost\",\n",
      "            \"TAX\": \"10%\",\n",
      "            \"PO #\": \"0001253\"\n",
      "        },\n",
      "        \"list_items\": [\n",
      "            {\n",
      "                \"column1\": \"[Days]\",\n",
      "                \"column2\": \"\",\n",
      "                \"column3\": \"\",\n",
      "                \"TOTAL PRICE\": \"\"\n",
      "            },\n",
      "            {\n",
      "                \"column1\": \"#\",\n",
      "                \"column2\": \"Service Description\",\n",
      "                \"column3\": \"TOTAL PRICE\"\n",
      "            },\n",
      "            {\n",
      "                \"column1\": \"\",\n",
      "                \"column2\": \"Item Description\",\n",
      "                \"column3\": \"Qty\",\n",
      "                \"column4\": \"Price\",\n",
      "                \"TOTAL PRICE\": \"TOTAL PRICE\"\n",
      "            },\n",
      "            {\n",
      "                \"column1\": \"Time range\",\n",
      "                \"column2\": \"\",\n",
      "                \"column3\": \"Price\",\n",
      "                \"column4\": \"\"\n",
      "            }\n",
      "        ]\n",
      "    }\n",
      "    ```\n",
      "\n",
      "    In the list items, each row represents a table cell. The columns are represented as keys in the object, and empty cells are denoted by an empty string (\"\") or null value (None). I didn't include specific information about the quantities and prices for services because there was no consistent pattern across the data provided to determine which column corresponds to those values.\n"
     ]
    }
   ],
   "source": [
    "print(\"Raw Ollama Response:\")\n",
    "print(structured_json)  # Debugging: Check if response is valid JSON"
   ]
  },
  {
   "cell_type": "code",
   "execution_count": 10,
   "id": "32edcc76-3600-4fb5-9e4f-f5dbf0c0712c",
   "metadata": {},
   "outputs": [],
   "source": [
    "\n",
    "with open(\"purchase_order_data.json\", \"w\") as f:\n",
    "    json.dump(structured_json, f, indent=4)\n"
   ]
  },
  {
   "cell_type": "code",
   "execution_count": 11,
   "id": "5437345b-ae7f-457a-9fa3-dba9ce5cc57d",
   "metadata": {},
   "outputs": [
    {
     "name": "stdout",
     "output_type": "stream",
     "text": [
      "Purchase Order Data Extracted:\n",
      " Here is the structured data extracted from the given text:\n",
      "\n",
      "    ```json\n",
      "    {\n",
      "        \"headers\": {\n",
      "            \"PURCHASE ORDER TO\": \"Construction Masters\",\n",
      "            \"SERVICE DESCRIPTION\": \"\",\n",
      "            \"ITEM DESCRIPTION\": \"\",\n",
      "            \"COMMENTS\": \"\",\n",
      "            \"DATE\": \"01/01/2022\",\n",
      "            \"APPROVED BY\": \"\",\n",
      "            \"TOTAL\": \"\",\n",
      "            \"TOTAL MATERIALS\": \"\",\n",
      "            \"ACCEPTED BY\": \"\",\n",
      "            \"TOTAL SERVICES\": \"\",\n",
      "            \"SHIP TO\": \"270 Construction Road Drive, Dayton, 25143 OH, PH: 555-1524-58554\",\n",
      "            \"PURCHASE ORDER\": \"Total Job Cost\",\n",
      "            \"TAX\": \"10%\",\n",
      "            \"PO #\": \"0001253\"\n",
      "        },\n",
      "        \"list_items\": [\n",
      "            {\n",
      "                \"column1\": \"[Days]\",\n",
      "                \"column2\": \"\",\n",
      "                \"column3\": \"\",\n",
      "                \"TOTAL PRICE\": \"\"\n",
      "            },\n",
      "            {\n",
      "                \"column1\": \"#\",\n",
      "                \"column2\": \"Service Description\",\n",
      "                \"column3\": \"TOTAL PRICE\"\n",
      "            },\n",
      "            {\n",
      "                \"column1\": \"\",\n",
      "                \"column2\": \"Item Description\",\n",
      "                \"column3\": \"Qty\",\n",
      "                \"column4\": \"Price\",\n",
      "                \"TOTAL PRICE\": \"TOTAL PRICE\"\n",
      "            },\n",
      "            {\n",
      "                \"column1\": \"Time range\",\n",
      "                \"column2\": \"\",\n",
      "                \"column3\": \"Price\",\n",
      "                \"column4\": \"\"\n",
      "            }\n",
      "        ]\n",
      "    }\n",
      "    ```\n",
      "\n",
      "    In the list items, each row represents a table cell. The columns are represented as keys in the object, and empty cells are denoted by an empty string (\"\") or null value (None). I didn't include specific information about the quantities and prices for services because there was no consistent pattern across the data provided to determine which column corresponds to those values.\n"
     ]
    }
   ],
   "source": [
    "\n",
    "print(\"Purchase Order Data Extracted:\")\n",
    "print(structured_json)\n"
   ]
  },
  {
   "cell_type": "code",
   "execution_count": null,
   "id": "64c56492-7c1f-4b70-a6ae-c6514d8a2d3d",
   "metadata": {},
   "outputs": [],
   "source": []
  }
 ],
 "metadata": {
  "kernelspec": {
   "display_name": "Python 3 (ipykernel)",
   "language": "python",
   "name": "python3"
  },
  "language_info": {
   "codemirror_mode": {
    "name": "ipython",
    "version": 3
   },
   "file_extension": ".py",
   "mimetype": "text/x-python",
   "name": "python",
   "nbconvert_exporter": "python",
   "pygments_lexer": "ipython3",
   "version": "3.9.21"
  }
 },
 "nbformat": 4,
 "nbformat_minor": 5
}
